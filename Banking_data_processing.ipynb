{
 "cells": [
  {
   "cell_type": "markdown",
   "metadata": {},
   "source": [
    "## Assignment"
   ]
  },
  {
   "cell_type": "markdown",
   "metadata": {},
   "source": [
    "## Requirements:\n",
    "\n",
    "### Data Cleaning:\n",
    " - Correct OCR-like errors in account numbers and descriptions.\n",
    " - Normalize amount values to a consistent format, handling currency symbols and negative values for withdrawals.\n",
    "### Data Analysis:\n",
    " - Identify and separate individual transactions from aggregated data (subtotals/yearly totals).\n",
    " - Reconcile transactions by ensuring the consistency of aggregated data with individual transactions.\n",
    "### Anomaly Detection:\n",
    " - Detect and flag any unusual transactions that could indicate errors or fraudulent activity based on criteria such as unusually high transaction amounts.\n",
    "### Reporting:\n",
    " - Generate a report summarizing the findings from your analysis, including any discrepancies in reconciliation and a list of detected anomalies.\n",
    "### Documentation:\n",
    " - Provide a README file detailing how to run your script, an overview of your approach to data cleaning, analysis, and anomaly detection, and how to interpret the output of your script.\n"
   ]
  },
  {
   "cell_type": "code",
   "execution_count": 136,
   "metadata": {},
   "outputs": [],
   "source": [
    "import pandas as pd\n",
    "import matplotlib.pyplot as plt\n",
    "import seaborn as sns\n",
    "import numpy as np\n",
    "import warnings\n",
    "warnings.filterwarnings('ignore')\n",
    "\n",
    "data = pd.read_csv('banking_data_assignment.csv')"
   ]
  },
  {
   "cell_type": "code",
   "execution_count": 137,
   "metadata": {},
   "outputs": [
    {
     "data": {
      "text/html": [
       "<div>\n",
       "<style scoped>\n",
       "    .dataframe tbody tr th:only-of-type {\n",
       "        vertical-align: middle;\n",
       "    }\n",
       "\n",
       "    .dataframe tbody tr th {\n",
       "        vertical-align: top;\n",
       "    }\n",
       "\n",
       "    .dataframe thead th {\n",
       "        text-align: right;\n",
       "    }\n",
       "</style>\n",
       "<table border=\"1\" class=\"dataframe\">\n",
       "  <thead>\n",
       "    <tr style=\"text-align: right;\">\n",
       "      <th></th>\n",
       "      <th>Transaction Date</th>\n",
       "      <th>Account Number</th>\n",
       "      <th>Transaction Type</th>\n",
       "      <th>Amount</th>\n",
       "      <th>Description</th>\n",
       "    </tr>\n",
       "  </thead>\n",
       "  <tbody>\n",
       "    <tr>\n",
       "      <th>0</th>\n",
       "      <td>2023-04-25</td>\n",
       "      <td>ACClOO7</td>\n",
       "      <td>Online Transfer</td>\n",
       "      <td>3708</td>\n",
       "      <td>Utilities</td>\n",
       "    </tr>\n",
       "    <tr>\n",
       "      <th>1</th>\n",
       "      <td>2023-12-03</td>\n",
       "      <td>ACClOO4</td>\n",
       "      <td>ATM Withdrawal</td>\n",
       "      <td>$3825</td>\n",
       "      <td>Online Purchase</td>\n",
       "    </tr>\n",
       "    <tr>\n",
       "      <th>2</th>\n",
       "      <td>2023-03-08</td>\n",
       "      <td>ACClOO3</td>\n",
       "      <td>Deposit</td>\n",
       "      <td>-160</td>\n",
       "      <td>Rent</td>\n",
       "    </tr>\n",
       "    <tr>\n",
       "      <th>3</th>\n",
       "      <td>2023-03-06</td>\n",
       "      <td>ACClOO7</td>\n",
       "      <td>Online Transfer</td>\n",
       "      <td>$4551</td>\n",
       "      <td>Groceries</td>\n",
       "    </tr>\n",
       "    <tr>\n",
       "      <th>4</th>\n",
       "      <td>2023-06-07</td>\n",
       "      <td>ACClOO3</td>\n",
       "      <td>Online Transfer</td>\n",
       "      <td>$-4605</td>\n",
       "      <td>Rent</td>\n",
       "    </tr>\n",
       "  </tbody>\n",
       "</table>\n",
       "</div>"
      ],
      "text/plain": [
       "  Transaction Date Account Number Transaction Type  Amount      Description\n",
       "0       2023-04-25        ACClOO7  Online Transfer    3708        Utilities\n",
       "1       2023-12-03        ACClOO4   ATM Withdrawal   $3825  Online Purchase\n",
       "2       2023-03-08        ACClOO3          Deposit    -160             Rent\n",
       "3       2023-03-06        ACClOO7  Online Transfer   $4551        Groceries\n",
       "4       2023-06-07        ACClOO3  Online Transfer  $-4605             Rent"
      ]
     },
     "execution_count": 137,
     "metadata": {},
     "output_type": "execute_result"
    }
   ],
   "source": [
    "# check the first five rows\n",
    "data.head()"
   ]
  },
  {
   "cell_type": "code",
   "execution_count": 138,
   "metadata": {
    "scrolled": true
   },
   "outputs": [
    {
     "data": {
      "text/plain": [
       "Card Payment       28\n",
       "Deposit            25\n",
       "Withdrawal         25\n",
       "Online Transfer    25\n",
       "Direct Debit       24\n",
       "ATM Withdrawal     23\n",
       "Name: Transaction Type, dtype: int64"
      ]
     },
     "execution_count": 138,
     "metadata": {},
     "output_type": "execute_result"
    }
   ],
   "source": [
    "data['Transaction Type'].value_counts()"
   ]
  },
  {
   "cell_type": "code",
   "execution_count": 139,
   "metadata": {},
   "outputs": [
    {
     "data": {
      "text/plain": [
       "(163, 5)"
      ]
     },
     "execution_count": 139,
     "metadata": {},
     "output_type": "execute_result"
    }
   ],
   "source": [
    "# Check the shape of the dataframe\n",
    "data.shape"
   ]
  },
  {
   "cell_type": "code",
   "execution_count": 140,
   "metadata": {},
   "outputs": [
    {
     "name": "stdout",
     "output_type": "stream",
     "text": [
      "<class 'pandas.core.frame.DataFrame'>\n",
      "RangeIndex: 163 entries, 0 to 162\n",
      "Data columns (total 5 columns):\n",
      " #   Column            Non-Null Count  Dtype \n",
      "---  ------            --------------  ----- \n",
      " 0   Transaction Date  163 non-null    object\n",
      " 1   Account Number    163 non-null    object\n",
      " 2   Transaction Type  150 non-null    object\n",
      " 3   Amount            163 non-null    object\n",
      " 4   Description       150 non-null    object\n",
      "dtypes: object(5)\n",
      "memory usage: 6.5+ KB\n"
     ]
    }
   ],
   "source": [
    "#check data types\n",
    "data.info()"
   ]
  },
  {
   "cell_type": "code",
   "execution_count": 141,
   "metadata": {},
   "outputs": [
    {
     "data": {
      "text/plain": [
       "Transaction Date     0\n",
       "Account Number       0\n",
       "Transaction Type    13\n",
       "Amount               0\n",
       "Description         13\n",
       "dtype: int64"
      ]
     },
     "execution_count": 141,
     "metadata": {},
     "output_type": "execute_result"
    }
   ],
   "source": [
    "# check null entries\n",
    "data.isnull().sum()"
   ]
  },
  {
   "cell_type": "code",
   "execution_count": 142,
   "metadata": {},
   "outputs": [
    {
     "data": {
      "text/html": [
       "<div>\n",
       "<style scoped>\n",
       "    .dataframe tbody tr th:only-of-type {\n",
       "        vertical-align: middle;\n",
       "    }\n",
       "\n",
       "    .dataframe tbody tr th {\n",
       "        vertical-align: top;\n",
       "    }\n",
       "\n",
       "    .dataframe thead th {\n",
       "        text-align: right;\n",
       "    }\n",
       "</style>\n",
       "<table border=\"1\" class=\"dataframe\">\n",
       "  <thead>\n",
       "    <tr style=\"text-align: right;\">\n",
       "      <th></th>\n",
       "      <th>Transaction Date</th>\n",
       "      <th>Account Number</th>\n",
       "      <th>Transaction Type</th>\n",
       "      <th>Amount</th>\n",
       "      <th>Description</th>\n",
       "    </tr>\n",
       "  </thead>\n",
       "  <tbody>\n",
       "    <tr>\n",
       "      <th>8</th>\n",
       "      <td>2023-07-28</td>\n",
       "      <td>SUBTOTAL</td>\n",
       "      <td>NaN</td>\n",
       "      <td>-59.0</td>\n",
       "      <td>NaN</td>\n",
       "    </tr>\n",
       "    <tr>\n",
       "      <th>21</th>\n",
       "      <td>2023-05-28</td>\n",
       "      <td>SUBTOTAL</td>\n",
       "      <td>NaN</td>\n",
       "      <td>-16045.0</td>\n",
       "      <td>NaN</td>\n",
       "    </tr>\n",
       "    <tr>\n",
       "      <th>26</th>\n",
       "      <td>2023-03-28</td>\n",
       "      <td>SUBTOTAL</td>\n",
       "      <td>NaN</td>\n",
       "      <td>3283.0</td>\n",
       "      <td>NaN</td>\n",
       "    </tr>\n",
       "    <tr>\n",
       "      <th>57</th>\n",
       "      <td>2023-12-31</td>\n",
       "      <td>YEARLY TOTAL</td>\n",
       "      <td>NaN</td>\n",
       "      <td>-62124.0</td>\n",
       "      <td>NaN</td>\n",
       "    </tr>\n",
       "    <tr>\n",
       "      <th>71</th>\n",
       "      <td>2023-12-28</td>\n",
       "      <td>SUBTOTAL</td>\n",
       "      <td>NaN</td>\n",
       "      <td>-6214.0</td>\n",
       "      <td>NaN</td>\n",
       "    </tr>\n",
       "    <tr>\n",
       "      <th>79</th>\n",
       "      <td>2023-10-28</td>\n",
       "      <td>SUBTOTAL</td>\n",
       "      <td>NaN</td>\n",
       "      <td>4345.0</td>\n",
       "      <td>NaN</td>\n",
       "    </tr>\n",
       "    <tr>\n",
       "      <th>81</th>\n",
       "      <td>2023-02-28</td>\n",
       "      <td>SUBTOTAL</td>\n",
       "      <td>NaN</td>\n",
       "      <td>-6399.0</td>\n",
       "      <td>NaN</td>\n",
       "    </tr>\n",
       "    <tr>\n",
       "      <th>93</th>\n",
       "      <td>2023-04-28</td>\n",
       "      <td>SUBTOTAL</td>\n",
       "      <td>NaN</td>\n",
       "      <td>1584.0</td>\n",
       "      <td>NaN</td>\n",
       "    </tr>\n",
       "    <tr>\n",
       "      <th>98</th>\n",
       "      <td>2023-09-28</td>\n",
       "      <td>SUBTOTAL</td>\n",
       "      <td>NaN</td>\n",
       "      <td>-17563.0</td>\n",
       "      <td>NaN</td>\n",
       "    </tr>\n",
       "    <tr>\n",
       "      <th>132</th>\n",
       "      <td>2023-06-28</td>\n",
       "      <td>SUBTOTAL</td>\n",
       "      <td>NaN</td>\n",
       "      <td>-534.0</td>\n",
       "      <td>NaN</td>\n",
       "    </tr>\n",
       "    <tr>\n",
       "      <th>133</th>\n",
       "      <td>2023-08-28</td>\n",
       "      <td>SUBTOTAL</td>\n",
       "      <td>NaN</td>\n",
       "      <td>-5849.0</td>\n",
       "      <td>NaN</td>\n",
       "    </tr>\n",
       "    <tr>\n",
       "      <th>153</th>\n",
       "      <td>2023-11-28</td>\n",
       "      <td>SUBTOTAL</td>\n",
       "      <td>NaN</td>\n",
       "      <td>-2944.0</td>\n",
       "      <td>NaN</td>\n",
       "    </tr>\n",
       "    <tr>\n",
       "      <th>155</th>\n",
       "      <td>2023-01-28</td>\n",
       "      <td>SUBTOTAL</td>\n",
       "      <td>NaN</td>\n",
       "      <td>-15729.0</td>\n",
       "      <td>NaN</td>\n",
       "    </tr>\n",
       "  </tbody>\n",
       "</table>\n",
       "</div>"
      ],
      "text/plain": [
       "    Transaction Date Account Number Transaction Type    Amount Description\n",
       "8         2023-07-28       SUBTOTAL              NaN     -59.0         NaN\n",
       "21        2023-05-28       SUBTOTAL              NaN  -16045.0         NaN\n",
       "26        2023-03-28       SUBTOTAL              NaN    3283.0         NaN\n",
       "57        2023-12-31   YEARLY TOTAL              NaN  -62124.0         NaN\n",
       "71        2023-12-28       SUBTOTAL              NaN   -6214.0         NaN\n",
       "79        2023-10-28       SUBTOTAL              NaN    4345.0         NaN\n",
       "81        2023-02-28       SUBTOTAL              NaN   -6399.0         NaN\n",
       "93        2023-04-28       SUBTOTAL              NaN    1584.0         NaN\n",
       "98        2023-09-28       SUBTOTAL              NaN  -17563.0         NaN\n",
       "132       2023-06-28       SUBTOTAL              NaN    -534.0         NaN\n",
       "133       2023-08-28       SUBTOTAL              NaN   -5849.0         NaN\n",
       "153       2023-11-28       SUBTOTAL              NaN   -2944.0         NaN\n",
       "155       2023-01-28       SUBTOTAL              NaN  -15729.0         NaN"
      ]
     },
     "execution_count": 142,
     "metadata": {},
     "output_type": "execute_result"
    }
   ],
   "source": [
    "data[data.isnull().any(axis=1)]"
   ]
  },
  {
   "cell_type": "code",
   "execution_count": 143,
   "metadata": {},
   "outputs": [
    {
     "data": {
      "text/plain": [
       "Transaction Date    object\n",
       "Account Number      object\n",
       "Transaction Type    object\n",
       "Amount              object\n",
       "Description         object\n",
       "dtype: object"
      ]
     },
     "execution_count": 143,
     "metadata": {},
     "output_type": "execute_result"
    }
   ],
   "source": [
    "data.dtypes"
   ]
  },
  {
   "cell_type": "markdown",
   "metadata": {},
   "source": [
    "## DATA CLEANING"
   ]
  },
  {
   "cell_type": "markdown",
   "metadata": {},
   "source": [
    "### 1. OCR errors\n",
    "### 2. Amount - handling currency symbols and negative values for withdrawals."
   ]
  },
  {
   "cell_type": "code",
   "execution_count": 144,
   "metadata": {},
   "outputs": [
    {
     "data": {
      "text/plain": [
       "Rent               32\n",
       "Online Purchase    27\n",
       "Transfer           25\n",
       "Groceries          23\n",
       "Salary             23\n",
       "Utilities          20\n",
       "Name: Description, dtype: int64"
      ]
     },
     "execution_count": 144,
     "metadata": {},
     "output_type": "execute_result"
    }
   ],
   "source": [
    "#There are no OCR errors in this column\n",
    "data['Description'].value_counts()"
   ]
  },
  {
   "cell_type": "code",
   "execution_count": 145,
   "metadata": {},
   "outputs": [
    {
     "data": {
      "text/plain": [
       "ACClOO2         19\n",
       "ACClOO9         18\n",
       "ACClOO4         18\n",
       "ACClOO7         16\n",
       "ACClOOl         15\n",
       "ACClOOO         15\n",
       "ACClOO3         14\n",
       "ACClOO6         14\n",
       "SUBTOTAL        12\n",
       "ACClOO5         12\n",
       "ACClOO8          9\n",
       "YEARLY TOTAL     1\n",
       "Name: Account Number, dtype: int64"
      ]
     },
     "execution_count": 145,
     "metadata": {},
     "output_type": "execute_result"
    }
   ],
   "source": [
    "# aggregate is labelled as \"SUBTOTAL\"\n",
    "data['Account Number'].value_counts()\n",
    "\n",
    "# 1 has been scanned as l\n",
    "# 0 has been scanned as o"
   ]
  },
  {
   "cell_type": "code",
   "execution_count": 146,
   "metadata": {},
   "outputs": [
    {
     "data": {
      "text/html": [
       "<div>\n",
       "<style scoped>\n",
       "    .dataframe tbody tr th:only-of-type {\n",
       "        vertical-align: middle;\n",
       "    }\n",
       "\n",
       "    .dataframe tbody tr th {\n",
       "        vertical-align: top;\n",
       "    }\n",
       "\n",
       "    .dataframe thead th {\n",
       "        text-align: right;\n",
       "    }\n",
       "</style>\n",
       "<table border=\"1\" class=\"dataframe\">\n",
       "  <thead>\n",
       "    <tr style=\"text-align: right;\">\n",
       "      <th></th>\n",
       "      <th>Transaction Date</th>\n",
       "      <th>Account Number</th>\n",
       "      <th>Transaction Type</th>\n",
       "      <th>Amount</th>\n",
       "      <th>Description</th>\n",
       "    </tr>\n",
       "  </thead>\n",
       "  <tbody>\n",
       "    <tr>\n",
       "      <th>0</th>\n",
       "      <td>2023-04-25</td>\n",
       "      <td>ACC1OO7</td>\n",
       "      <td>Online Transfer</td>\n",
       "      <td>3708.0</td>\n",
       "      <td>Utilities</td>\n",
       "    </tr>\n",
       "    <tr>\n",
       "      <th>1</th>\n",
       "      <td>2023-12-03</td>\n",
       "      <td>ACC1OO4</td>\n",
       "      <td>ATM Withdrawal</td>\n",
       "      <td>3825.0</td>\n",
       "      <td>Online Purchase</td>\n",
       "    </tr>\n",
       "    <tr>\n",
       "      <th>2</th>\n",
       "      <td>2023-03-08</td>\n",
       "      <td>ACC1OO3</td>\n",
       "      <td>Deposit</td>\n",
       "      <td>-160.0</td>\n",
       "      <td>Rent</td>\n",
       "    </tr>\n",
       "    <tr>\n",
       "      <th>3</th>\n",
       "      <td>2023-03-06</td>\n",
       "      <td>ACC1OO7</td>\n",
       "      <td>Online Transfer</td>\n",
       "      <td>4551.0</td>\n",
       "      <td>Groceries</td>\n",
       "    </tr>\n",
       "    <tr>\n",
       "      <th>4</th>\n",
       "      <td>2023-06-07</td>\n",
       "      <td>ACC1OO3</td>\n",
       "      <td>Online Transfer</td>\n",
       "      <td>-4605.0</td>\n",
       "      <td>Rent</td>\n",
       "    </tr>\n",
       "    <tr>\n",
       "      <th>...</th>\n",
       "      <td>...</td>\n",
       "      <td>...</td>\n",
       "      <td>...</td>\n",
       "      <td>...</td>\n",
       "      <td>...</td>\n",
       "    </tr>\n",
       "    <tr>\n",
       "      <th>158</th>\n",
       "      <td>2023-09-27</td>\n",
       "      <td>ACC1OO2</td>\n",
       "      <td>Card Payment</td>\n",
       "      <td>4071.0</td>\n",
       "      <td>Rent</td>\n",
       "    </tr>\n",
       "    <tr>\n",
       "      <th>159</th>\n",
       "      <td>2023-11-02</td>\n",
       "      <td>ACC1OO9</td>\n",
       "      <td>Card Payment</td>\n",
       "      <td>-3680.0</td>\n",
       "      <td>Groceries</td>\n",
       "    </tr>\n",
       "    <tr>\n",
       "      <th>160</th>\n",
       "      <td>2023-10-27</td>\n",
       "      <td>ACC1OO7</td>\n",
       "      <td>Online Transfer</td>\n",
       "      <td>-636.0</td>\n",
       "      <td>Rent</td>\n",
       "    </tr>\n",
       "    <tr>\n",
       "      <th>161</th>\n",
       "      <td>2023-09-10</td>\n",
       "      <td>ACC1OOO</td>\n",
       "      <td>Card Payment</td>\n",
       "      <td>-1112.0</td>\n",
       "      <td>Online Purchase</td>\n",
       "    </tr>\n",
       "    <tr>\n",
       "      <th>162</th>\n",
       "      <td>2023-05-19</td>\n",
       "      <td>ACC1OO1</td>\n",
       "      <td>Withdrawal</td>\n",
       "      <td>-464.0</td>\n",
       "      <td>Transfer</td>\n",
       "    </tr>\n",
       "  </tbody>\n",
       "</table>\n",
       "<p>163 rows × 5 columns</p>\n",
       "</div>"
      ],
      "text/plain": [
       "    Transaction Date Account Number Transaction Type  Amount      Description\n",
       "0         2023-04-25        ACC1OO7  Online Transfer  3708.0        Utilities\n",
       "1         2023-12-03        ACC1OO4   ATM Withdrawal  3825.0  Online Purchase\n",
       "2         2023-03-08        ACC1OO3          Deposit  -160.0             Rent\n",
       "3         2023-03-06        ACC1OO7  Online Transfer  4551.0        Groceries\n",
       "4         2023-06-07        ACC1OO3  Online Transfer -4605.0             Rent\n",
       "..               ...            ...              ...     ...              ...\n",
       "158       2023-09-27        ACC1OO2     Card Payment  4071.0             Rent\n",
       "159       2023-11-02        ACC1OO9     Card Payment -3680.0        Groceries\n",
       "160       2023-10-27        ACC1OO7  Online Transfer  -636.0             Rent\n",
       "161       2023-09-10        ACC1OOO     Card Payment -1112.0  Online Purchase\n",
       "162       2023-05-19        ACC1OO1       Withdrawal  -464.0         Transfer\n",
       "\n",
       "[163 rows x 5 columns]"
      ]
     },
     "execution_count": 146,
     "metadata": {},
     "output_type": "execute_result"
    }
   ],
   "source": [
    "def data_clean(df):\n",
    "    data['Account Number'] = data['Account Number'].apply(str)\n",
    "    \n",
    "    # correcting string errors\n",
    "    error_dict = {'l':'1', 'o':'0'}    \n",
    "    df['Account Number'] = df['Account Number'].apply(lambda x: ''.join([error_dict.get(c, c) for c in x]))\n",
    "    \n",
    "    # Normalizing 'Amount'\n",
    "    df['Amount'] = df['Amount'].replace('[\\$,]', '', regex=True).astype(float)\n",
    "    \n",
    "    # coverting to date field\n",
    "    df['Transaction Date'] = pd.to_datetime(df['Transaction Date'])\n",
    "    return df\n",
    "\n",
    "data_clean(data)"
   ]
  },
  {
   "cell_type": "markdown",
   "metadata": {},
   "source": [
    "## Data Analysis:\n",
    "### 1. Identify and separate individual transactions from aggregated data (subtotals/yearly totals).\n",
    "### 2. Reconcile transactions by ensuring the consistency of aggregated data with individual transactions.\n"
   ]
  },
  {
   "cell_type": "code",
   "execution_count": 147,
   "metadata": {},
   "outputs": [
    {
     "data": {
      "text/html": [
       "<div>\n",
       "<style scoped>\n",
       "    .dataframe tbody tr th:only-of-type {\n",
       "        vertical-align: middle;\n",
       "    }\n",
       "\n",
       "    .dataframe tbody tr th {\n",
       "        vertical-align: top;\n",
       "    }\n",
       "\n",
       "    .dataframe thead th {\n",
       "        text-align: right;\n",
       "    }\n",
       "</style>\n",
       "<table border=\"1\" class=\"dataframe\">\n",
       "  <thead>\n",
       "    <tr style=\"text-align: right;\">\n",
       "      <th></th>\n",
       "      <th>Transaction Date</th>\n",
       "      <th>Amount_indiv</th>\n",
       "      <th>Account Number</th>\n",
       "      <th>Transaction Type</th>\n",
       "      <th>Amount_subtotal</th>\n",
       "      <th>Description</th>\n",
       "      <th>Difference</th>\n",
       "    </tr>\n",
       "  </thead>\n",
       "  <tbody>\n",
       "    <tr>\n",
       "      <th>0</th>\n",
       "      <td>2023-01</td>\n",
       "      <td>-15729.0</td>\n",
       "      <td>SUBTOTAL</td>\n",
       "      <td>NaN</td>\n",
       "      <td>-15729.0</td>\n",
       "      <td>NaN</td>\n",
       "      <td>0.0</td>\n",
       "    </tr>\n",
       "    <tr>\n",
       "      <th>1</th>\n",
       "      <td>2023-02</td>\n",
       "      <td>-6399.0</td>\n",
       "      <td>SUBTOTAL</td>\n",
       "      <td>NaN</td>\n",
       "      <td>-6399.0</td>\n",
       "      <td>NaN</td>\n",
       "      <td>0.0</td>\n",
       "    </tr>\n",
       "    <tr>\n",
       "      <th>2</th>\n",
       "      <td>2023-03</td>\n",
       "      <td>3283.0</td>\n",
       "      <td>SUBTOTAL</td>\n",
       "      <td>NaN</td>\n",
       "      <td>3283.0</td>\n",
       "      <td>NaN</td>\n",
       "      <td>0.0</td>\n",
       "    </tr>\n",
       "    <tr>\n",
       "      <th>3</th>\n",
       "      <td>2023-04</td>\n",
       "      <td>1584.0</td>\n",
       "      <td>SUBTOTAL</td>\n",
       "      <td>NaN</td>\n",
       "      <td>1584.0</td>\n",
       "      <td>NaN</td>\n",
       "      <td>0.0</td>\n",
       "    </tr>\n",
       "    <tr>\n",
       "      <th>4</th>\n",
       "      <td>2023-05</td>\n",
       "      <td>-16045.0</td>\n",
       "      <td>SUBTOTAL</td>\n",
       "      <td>NaN</td>\n",
       "      <td>-16045.0</td>\n",
       "      <td>NaN</td>\n",
       "      <td>0.0</td>\n",
       "    </tr>\n",
       "    <tr>\n",
       "      <th>5</th>\n",
       "      <td>2023-06</td>\n",
       "      <td>-534.0</td>\n",
       "      <td>SUBTOTAL</td>\n",
       "      <td>NaN</td>\n",
       "      <td>-534.0</td>\n",
       "      <td>NaN</td>\n",
       "      <td>0.0</td>\n",
       "    </tr>\n",
       "    <tr>\n",
       "      <th>6</th>\n",
       "      <td>2023-07</td>\n",
       "      <td>-59.0</td>\n",
       "      <td>SUBTOTAL</td>\n",
       "      <td>NaN</td>\n",
       "      <td>-59.0</td>\n",
       "      <td>NaN</td>\n",
       "      <td>0.0</td>\n",
       "    </tr>\n",
       "    <tr>\n",
       "      <th>7</th>\n",
       "      <td>2023-08</td>\n",
       "      <td>-5849.0</td>\n",
       "      <td>SUBTOTAL</td>\n",
       "      <td>NaN</td>\n",
       "      <td>-5849.0</td>\n",
       "      <td>NaN</td>\n",
       "      <td>0.0</td>\n",
       "    </tr>\n",
       "    <tr>\n",
       "      <th>8</th>\n",
       "      <td>2023-09</td>\n",
       "      <td>-17563.0</td>\n",
       "      <td>SUBTOTAL</td>\n",
       "      <td>NaN</td>\n",
       "      <td>-17563.0</td>\n",
       "      <td>NaN</td>\n",
       "      <td>0.0</td>\n",
       "    </tr>\n",
       "    <tr>\n",
       "      <th>9</th>\n",
       "      <td>2023-10</td>\n",
       "      <td>4345.0</td>\n",
       "      <td>SUBTOTAL</td>\n",
       "      <td>NaN</td>\n",
       "      <td>4345.0</td>\n",
       "      <td>NaN</td>\n",
       "      <td>0.0</td>\n",
       "    </tr>\n",
       "    <tr>\n",
       "      <th>10</th>\n",
       "      <td>2023-11</td>\n",
       "      <td>-2944.0</td>\n",
       "      <td>SUBTOTAL</td>\n",
       "      <td>NaN</td>\n",
       "      <td>-2944.0</td>\n",
       "      <td>NaN</td>\n",
       "      <td>0.0</td>\n",
       "    </tr>\n",
       "    <tr>\n",
       "      <th>11</th>\n",
       "      <td>2023-12</td>\n",
       "      <td>-6214.0</td>\n",
       "      <td>SUBTOTAL</td>\n",
       "      <td>NaN</td>\n",
       "      <td>-6214.0</td>\n",
       "      <td>NaN</td>\n",
       "      <td>0.0</td>\n",
       "    </tr>\n",
       "  </tbody>\n",
       "</table>\n",
       "</div>"
      ],
      "text/plain": [
       "   Transaction Date  Amount_indiv Account Number Transaction Type  \\\n",
       "0           2023-01      -15729.0       SUBTOTAL              NaN   \n",
       "1           2023-02       -6399.0       SUBTOTAL              NaN   \n",
       "2           2023-03        3283.0       SUBTOTAL              NaN   \n",
       "3           2023-04        1584.0       SUBTOTAL              NaN   \n",
       "4           2023-05      -16045.0       SUBTOTAL              NaN   \n",
       "5           2023-06        -534.0       SUBTOTAL              NaN   \n",
       "6           2023-07         -59.0       SUBTOTAL              NaN   \n",
       "7           2023-08       -5849.0       SUBTOTAL              NaN   \n",
       "8           2023-09      -17563.0       SUBTOTAL              NaN   \n",
       "9           2023-10        4345.0       SUBTOTAL              NaN   \n",
       "10          2023-11       -2944.0       SUBTOTAL              NaN   \n",
       "11          2023-12       -6214.0       SUBTOTAL              NaN   \n",
       "\n",
       "    Amount_subtotal Description  Difference  \n",
       "0          -15729.0         NaN         0.0  \n",
       "1           -6399.0         NaN         0.0  \n",
       "2            3283.0         NaN         0.0  \n",
       "3            1584.0         NaN         0.0  \n",
       "4          -16045.0         NaN         0.0  \n",
       "5            -534.0         NaN         0.0  \n",
       "6             -59.0         NaN         0.0  \n",
       "7           -5849.0         NaN         0.0  \n",
       "8          -17563.0         NaN         0.0  \n",
       "9            4345.0         NaN         0.0  \n",
       "10          -2944.0         NaN         0.0  \n",
       "11          -6214.0         NaN         0.0  "
      ]
     },
     "execution_count": 147,
     "metadata": {},
     "output_type": "execute_result"
    }
   ],
   "source": [
    "def analyse(data):\n",
    "    # Separate individual transactions from monthly and yearly aggregates\n",
    "    individual = data[(data['Account Number'] != 'SUBTOTAL') & (data['Account Number'] != 'YEARLY TOTAL')]\n",
    "    aggregate_monthly = data[data['Account Number'] == 'SUBTOTAL']\n",
    "    aggregate_yearly = data[data['Account Number'] == 'YEARLY TOTAL']\n",
    "    \n",
    "    # Group by 'Transaction Date' and calculate the sum of all montlhy transactions for individual transactions\n",
    "    monthly_grouped_sum = individual.groupby(individual['Transaction Date'].dt.to_period(\"M\"))['Amount'].sum().reset_index()\n",
    "    monthly_grouped_sum['Transaction Date'] = monthly_grouped_sum['Transaction Date'].astype(str)\n",
    "    \n",
    "    # check if monthly subtotal is correct\n",
    "    aggregate_monthly['Transaction Date'] = aggregate_monthly['Transaction Date'].dt.to_period(\"M\").astype(str)\n",
    "    \n",
    "    merged = monthly_grouped_sum.merge(aggregate_monthly, on='Transaction Date', suffixes=('_indiv', '_subtotal'))\n",
    "    merged['Difference'] = merged['Amount_indiv'] - merged['Amount_subtotal']\n",
    "    \n",
    "    return merged\n",
    "\n",
    "analyse(data)\n"
   ]
  },
  {
   "cell_type": "markdown",
   "metadata": {},
   "source": [
    "### As we can see, the difference is 0, hence the aggregated data for month is accurate"
   ]
  },
  {
   "cell_type": "markdown",
   "metadata": {},
   "source": [
    "## Anomaly Detection:\n",
    "- Detect and flag any unusual transactions that could indicate errors or fraudulent activity based on criteria such as unusually high transaction amounts.\n"
   ]
  },
  {
   "cell_type": "code",
   "execution_count": 148,
   "metadata": {},
   "outputs": [
    {
     "data": {
      "image/png": "[encoded data removed]",
      "text/plain": [
       "<Figure size 432x288 with 1 Axes>"
      ]
     },
     "metadata": {
      "needs_background": "light"
     },
     "output_type": "display_data"
    }
   ],
   "source": [
    "# check for outliers in Amount\n",
    "individual = data[(data['Account Number'] != 'SUBTOTAL') & (data['Account Number'] != 'YEARLY TOTAL')]\n",
    "sns.boxplot(individual['Amount'])\n",
    "plt.title('box plot for transaction amounts')\n",
    "plt.show()"
   ]
  },
  {
   "cell_type": "code",
   "execution_count": 149,
   "metadata": {},
   "outputs": [
    {
     "data": {
      "image/png": "[encoded data removed]",
      "text/plain": [
       "<Figure size 432x288 with 1 Axes>"
      ]
     },
     "metadata": {
      "needs_background": "light"
     },
     "output_type": "display_data"
    }
   ],
   "source": [
    "individual = data[(data['Account Number'] != 'SUBTOTAL') & (data['Account Number'] != 'YEARLY TOTAL')]\n",
    "sns.distplot(individual['Amount'])\n",
    "plt.title('distribution for transaction amounts')\n",
    "plt.show()"
   ]
  },
  {
   "cell_type": "code",
   "execution_count": 150,
   "metadata": {},
   "outputs": [
    {
     "data": {
      "text/html": [
       "<div>\n",
       "<style scoped>\n",
       "    .dataframe tbody tr th:only-of-type {\n",
       "        vertical-align: middle;\n",
       "    }\n",
       "\n",
       "    .dataframe tbody tr th {\n",
       "        vertical-align: top;\n",
       "    }\n",
       "\n",
       "    .dataframe thead th {\n",
       "        text-align: right;\n",
       "    }\n",
       "</style>\n",
       "<table border=\"1\" class=\"dataframe\">\n",
       "  <thead>\n",
       "    <tr style=\"text-align: right;\">\n",
       "      <th></th>\n",
       "      <th>Transaction Date</th>\n",
       "      <th>Account Number</th>\n",
       "      <th>Transaction Type</th>\n",
       "      <th>Amount</th>\n",
       "      <th>Description</th>\n",
       "    </tr>\n",
       "  </thead>\n",
       "  <tbody>\n",
       "  </tbody>\n",
       "</table>\n",
       "</div>"
      ],
      "text/plain": [
       "Empty DataFrame\n",
       "Columns: [Transaction Date, Account Number, Transaction Type, Amount, Description]\n",
       "Index: []"
      ]
     },
     "execution_count": 150,
     "metadata": {},
     "output_type": "execute_result"
    }
   ],
   "source": [
    "## detect outliers\n",
    "\n",
    "def detect_outliers(data):\n",
    "    individual = data[(data['Account Number'] != 'SUBTOTAL') & (data['Account Number'] != 'YEARLY TOTAL')]\n",
    "    # Calculate the first (Q1) and third (Q3) quartiles\n",
    "    Q1 = individual['Amount'].quantile(0.25)\n",
    "    Q3 = individual['Amount'].quantile(0.75)\n",
    "    IQR = Q3 - Q1\n",
    "\n",
    "    # Define the boundaries for outliers\n",
    "    lower_bound = Q1 - 1.5 * IQR\n",
    "    upper_bound = Q3 + 1.5 * IQR\n",
    "\n",
    "    # show outliers\n",
    "    outliers = individual[(individual['Amount'] < lower_bound) | (individual['Amount'] > upper_bound)]\n",
    "    return outliers\n",
    "\n",
    "detect_outliers(data)\n",
    "\n",
    "## There are no outliers in current scenario"
   ]
  },
  {
   "cell_type": "code",
   "execution_count": 155,
   "metadata": {},
   "outputs": [],
   "source": [
    "\n",
    "\n",
    "class ProcessData:\n",
    "    def __init__(self, data):\n",
    "        self.data = data\n",
    "\n",
    "    def data_clean(self):\n",
    "        # Normalize account numbers to strings and correct common errors\n",
    "        error_dict = {'l': '1', 'o': '0'}\n",
    "        self.data['Account Number'] = self.data['Account Number'].astype(str).apply(lambda x: ''.join(error_dict.get(c, c) for c in x))\n",
    "\n",
    "        # Convert 'Amount' from string to float, removing '$' and ',' characters\n",
    "        self.data['Amount'] = self.data['Amount'].replace('[\\$,]', '', regex=True).astype(float)\n",
    "\n",
    "        # Convert 'Transaction Date' to datetime\n",
    "        self.data['Transaction Date'] = pd.to_datetime(self.data['Transaction Date'])\n",
    "\n",
    "    def analyse(self):\n",
    "        # Filter individual transactions and aggregate entries\n",
    "        individual = self.data[(self.data['Account Number'] != 'SUBTOTAL') & (self.data['Account Number'] != 'YEARLY TOTAL')]\n",
    "        aggregate_monthly = self.data[self.data['Account Number'] == 'SUBTOTAL']\n",
    "        aggregate_yearly = self.data[self.data['Account Number'] == 'YEARLY TOTAL']\n",
    "\n",
    "        # Sum monthly transactions\n",
    "        monthly_grouped_sum = individual.groupby(individual['Transaction Date'].dt.to_period(\"M\"))['Amount'].sum().reset_index(name='Amount_sum')\n",
    "        monthly_grouped_sum['Transaction Date'] = monthly_grouped_sum['Transaction Date'].astype(str)\n",
    "\n",
    "        # Merge with aggregate monthly data\n",
    "        aggregate_monthly['Transaction Date'] = aggregate_monthly['Transaction Date'].dt.to_period(\"M\").astype(str)\n",
    "        merged = monthly_grouped_sum.merge(aggregate_monthly, left_on='Transaction Date', right_on='Transaction Date', suffixes=('_indiv', '_subtotal'))\n",
    "        merged['Difference'] = merged['Amount_sum'] - merged['Amount_subtotal']\n",
    "\n",
    "        return merged\n",
    "\n",
    "    def detect_outliers(self):\n",
    "        individual = data[(data['Account Number'] != 'SUBTOTAL') & (data['Account Number'] != 'YEARLY TOTAL')]\n",
    "        # Calculate the first (Q1) and third (Q3) quartiles\n",
    "        Q1 = individual['Amount'].quantile(0.25)\n",
    "        Q3 = individual['Amount'].quantile(0.75)\n",
    "        IQR = Q3 - Q1\n",
    "\n",
    "        # Define the boundaries for outliers\n",
    "        lower_bound = Q1 - 1.5 * IQR\n",
    "        upper_bound = Q3 + 1.5 * IQR\n",
    "\n",
    "        # show outliers\n",
    "        outliers = individual[(individual['Amount'] < lower_bound) | (individual['Amount'] > upper_bound)]\n",
    "        return outliers\n"
   ]
  },
  {
   "cell_type": "markdown",
   "metadata": {},
   "source": [
    "Report\n",
    "1. Data Cleaning Summary:\n",
    "   - Corrected OCR-like errors in account numbers. Descriptions columns did not have OCR errors.\n",
    "   - Normalized amount values across transactions, handling currency symbols and negative values.\n",
    "\n",
    "2. Data Analysis Summary:\n",
    "   - Separated individual transactions from aggregated data.\n",
    "   - Found no discrepancies in transaction reconciliation.\n",
    "\n",
    "3. Anomaly Detection Summary:\n",
    "   - There were no unusual transactions based on amount criteria.\n"
   ]
  },
  {
   "cell_type": "code",
   "execution_count": null,
   "metadata": {},
   "outputs": [],
   "source": []
  }
 ],
 "metadata": {
  "kernelspec": {
   "display_name": "Python 3",
   "language": "python",
   "name": "python3"
  },
  "language_info": {
   "codemirror_mode": {
    "name": "ipython",
    "version": 3
   },
   "file_extension": ".py",
   "mimetype": "text/x-python",
   "name": "python",
   "nbconvert_exporter": "python",
   "pygments_lexer": "ipython3",
   "version": "3.8.3"
  }
 },
 "nbformat": 4,
 "nbformat_minor": 4
}
